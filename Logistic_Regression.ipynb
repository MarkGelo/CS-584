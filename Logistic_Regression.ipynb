{
  "nbformat": 4,
  "nbformat_minor": 0,
  "metadata": {
    "colab": {
      "name": "CS584_Assignment2.ipynb",
      "provenance": [],
      "collapsed_sections": []
    },
    "kernelspec": {
      "name": "python3",
      "language": "python",
      "display_name": "Python 3"
    },
    "pycharm": {
      "stem_cell": {
        "cell_type": "raw",
        "source": [],
        "metadata": {
          "collapsed": false
        }
      }
    }
  },
  "cells": [
    {
      "cell_type": "markdown",
      "metadata": {
        "id": "8iwaee_T-Urj"
      },
      "source": [
        "# Assignment 2 - Logistic Regression\n",
        "> **FULL MARKS = 10**\n",
        "\n",
        "In this assignment, you are going to implement your own logistic Regression function. Please notice **no** library versions of logistic regression are allowed. Follow the instructions, you will need to fill the blanks to make it functional. The process is similar to the previous assignment. "
      ]
    },
    {
      "cell_type": "markdown",
      "metadata": {
        "id": "FWwuN_B5D73w"
      },
      "source": [
        "***Initialization***"
      ]
    },
    {
      "cell_type": "markdown",
      "metadata": {
        "id": "-H_r0Tz6gu4c"
      },
      "source": [
        "*No more library allowed*"
      ]
    },
    {
      "cell_type": "code",
      "metadata": {
        "id": "9M1DAu9XPY8E"
      },
      "source": [
        "# load required library\n",
        "import matplotlib.pyplot as plt\n",
        "import numpy as np\n",
        "from sklearn.datasets import load_iris\n",
        "import scipy.optimize as opt"
      ],
      "execution_count": 63,
      "outputs": []
    },
    {
      "cell_type": "markdown",
      "metadata": {
        "id": "4LdQ5yubLJld"
      },
      "source": [
        "Load data *(Do not modify)*\n",
        "_________\n",
        "\n",
        "We use 100 samples and 2 features. \n"
      ]
    },
    {
      "cell_type": "code",
      "metadata": {
        "pycharm": {
          "name": "#%%\n"
        },
        "id": "ipOG3LQfjQMh"
      },
      "source": [
        "x, y = load_iris(return_X_y=True)"
      ],
      "execution_count": 64,
      "outputs": []
    },
    {
      "cell_type": "code",
      "metadata": {
        "id": "7EpIS82ED4vr"
      },
      "source": [
        "x=x[:100, :2] # class 0 and 1 balanced\r\n",
        "y=y[:100]"
      ],
      "execution_count": 65,
      "outputs": []
    },
    {
      "cell_type": "markdown",
      "metadata": {
        "collapsed": false,
        "id": "33XtealSjQMk"
      },
      "source": [
        "**Visualize data**\n",
        "___________"
      ]
    },
    {
      "cell_type": "code",
      "metadata": {
        "id": "V5KwBYiT-J3x"
      },
      "source": [
        "# draw raw data\r\n",
        "def draw_data(x,y):\r\n",
        "    \r\n",
        "    #########################################################################\r\n",
        "    # Full Mark: 1                                                          #    \r\n",
        "    # TODO:                                                                 #\r\n",
        "    # 1. make a scatter plot of the raw data                                #\r\n",
        "    # 2. set title for the plot                                             #\r\n",
        "    # 3. set label for x,y axis                                             #\r\n",
        "    # Note, this scatter plot has two different type of points              #\r\n",
        "    #########################################################################\r\n",
        "\r\n",
        "    colors = iter(['r', 'g', 'b', 'c', 'm', 'y', 'k'])\r\n",
        "    # split into classes so can have label\r\n",
        "    for clas in np.unique(y):\r\n",
        "        # plot points with class\r\n",
        "        plt.scatter(x[np.where(y == clas),0], x[np.where(y == clas),1], c = next(colors), label = f'Class {clas}')\r\n",
        "    \r\n",
        "    plt.xlabel(\"Length\")\r\n",
        "    plt.ylabel(\"Width\")\r\n",
        "    plt.title(\"Iris Dataset\")\r\n",
        "    plt.legend()\r\n",
        "\r\n",
        "    #########################################################################\r\n",
        "    #                       END OF YOUR CODE                                #\r\n",
        "    #########################################################################\r\n",
        "\r\n",
        "    # show plot\r\n",
        "    plt.show()"
      ],
      "execution_count": 66,
      "outputs": []
    },
    {
      "cell_type": "markdown",
      "metadata": {
        "id": "6jyZEY2f-ZlQ"
      },
      "source": [
        "Your plot should be similar to the example below"
      ]
    },
    {
      "cell_type": "code",
      "metadata": {
        "id": "0X1EdMDdMpHR",
        "colab": {
          "base_uri": "https://localhost:8080/",
          "height": 295
        },
        "outputId": "2536a4a0-c439-4c16-ea78-0dc03703b9a4"
      },
      "source": [
        "draw_data(x,y)"
      ],
      "execution_count": 67,
      "outputs": [
        {
          "output_type": "display_data",
          "data": {
            "image/png": "[encoded data removed]",
            "text/plain": [
              "<Figure size 432x288 with 1 Axes>"
            ]
          },
          "metadata": {
            "tags": [],
            "needs_background": "light"
          }
        }
      ]
    },
    {
      "cell_type": "markdown",
      "metadata": {
        "id": "sknkLiYZjaJo"
      },
      "source": [
        "**Sigmoid function**\n",
        "________________"
      ]
    },
    {
      "cell_type": "code",
      "metadata": {
        "id": "wszqzBT9xRgj"
      },
      "source": [
        "# please do not modify this cell\r\n",
        "x = np.concatenate((np.array([np.ones(len(y))]).T, x), axis=1)\r\n",
        "theta = np.zeros(x.shape[1])"
      ],
      "execution_count": 68,
      "outputs": []
    },
    {
      "cell_type": "markdown",
      "metadata": {
        "id": "qfM7gVinsixJ"
      },
      "source": [
        "**You can decide by yourselves whether to split the dataset to training and testing. The training and testing datasets spliting is not a part of the assignment 2 as you have done that in assignmnet 1. Without spliting, you can just report the accuracy on training dataset. **"
      ]
    },
    {
      "cell_type": "code",
      "metadata": {
        "pycharm": {
          "name": "#%%\n"
        },
        "id": "AsCvUXe1jQMq"
      },
      "source": [
        "# define sigmoid function\n",
        "# math: refer to https://en.wikipedia.org/wiki/Sigmoid_function or slides\n",
        "def sigmoid(theta, X):\n",
        "    #########################################################################\n",
        "    # Full Mark: 1                                                          # \n",
        "    # TODO:                                                                 #\n",
        "    # 1. implement the sigmoid function over input theta and X\n",
        "    #########################################################################\n",
        "    \n",
        "    # 1/(1+e^-x)\n",
        "    s = 1 / (1 + np.exp(-(np.dot(X, theta))))\n",
        "\n",
        "    #########################################################################\n",
        "    #                       END OF YOUR CODE                                #\n",
        "    #########################################################################\n",
        "    \n",
        "    return s"
      ],
      "execution_count": 69,
      "outputs": []
    },
    {
      "cell_type": "markdown",
      "metadata": {
        "id": "4Layck69jdEU"
      },
      "source": [
        "**Cost function**\n",
        "____________"
      ]
    },
    {
      "cell_type": "code",
      "metadata": {
        "pycharm": {
          "name": "#%%\n"
        },
        "id": "oUtUiAqBjQMw"
      },
      "source": [
        "# define cost function with sigmoid function\n",
        "def cost(theta, X, y):\n",
        "    #########################################################################\n",
        "    # Full Mark: 2                                                          # \n",
        "    # TODO:                                                                 #\n",
        "    # 1. implement the cross entropy loss function with sigmoid             #\n",
        "    #########################################################################\n",
        "\n",
        "    p = sigmoid(theta.T, X)\n",
        "    # -1/m sum(ylog(y^)) -> -1/m (ylog(y^) + (1-y)log(1-y^))\n",
        "    co = np.sum((-y * np.log(p)) - ((1 - y) * np.log(1 - p))) / (len(X))\n",
        "\n",
        "    #########################################################################\n",
        "    #                       END OF YOUR CODE                                #\n",
        "    #########################################################################\n",
        "    return co"
      ],
      "execution_count": 70,
      "outputs": []
    },
    {
      "cell_type": "markdown",
      "metadata": {
        "id": "fw9RGgRojgzY"
      },
      "source": [
        "**Calculate gradients**\n",
        "________________"
      ]
    },
    {
      "cell_type": "code",
      "metadata": {
        "pycharm": {
          "name": "#%%\n"
        },
        "id": "shm404iFjQM5"
      },
      "source": [
        "# the gradient of the cost is a vector of the same length as θ where the jth element (for j = 0, 1, . . . , n)\n",
        "def gradient(theta, X, y):\n",
        "    #########################################################################\n",
        "    # Full Mark: 2                                                          # \n",
        "    # TODO:                                                                 #\n",
        "    # 1. calculate the gradients using theta and sigmoid                    #\n",
        "    # Hint: X may need to be transposed to do matrix operation              #\n",
        "    #########################################################################\n",
        "    \n",
        "    p = sigmoid(theta.T, X)\n",
        "    # dsigmoid(x)/dx = sigmoid(x)(1 - sigmoid(x))\n",
        "    # grad = ... = 1/m X^t[p - y]\n",
        "    grad = (1 / X.shape[0]) * np.dot(X.T, (p - y))\n",
        "    #print(grad)\n",
        "\n",
        "    #########################################################################\n",
        "    #                       END OF YOUR CODE                                #\n",
        "    #########################################################################\n",
        "    return grad"
      ],
      "execution_count": 71,
      "outputs": []
    },
    {
      "cell_type": "markdown",
      "metadata": {
        "id": "TzEZlyZjtYDJ"
      },
      "source": [
        "**Predicting**\n",
        "________________"
      ]
    },
    {
      "cell_type": "code",
      "metadata": {
        "id": "4-hauHHLLyh-"
      },
      "source": [
        "# predict for new X\n",
        "def predict(theta, X):\n",
        "    #########################################################################\n",
        "    # Full Mark: 1                                                          # \n",
        "    # TODO:                                                                 #\n",
        "    # 1. predict the value using theta and sigmoid                          #\n",
        "    # 2. convert the predicted value to 0/1                                 #\n",
        "    # That's how it is called Logistic regression                           #\n",
        "    #########################################################################\n",
        "    \n",
        "    p = sigmoid(theta.T, X)\n",
        "    #print(p)\n",
        "    predict_labels = [1 if x >= 0.5 else 0 for x in p]\n",
        "    #print(predict_labels)\n",
        "    \n",
        "    #########################################################################\n",
        "    #                       END OF YOUR CODE                                #\n",
        "    #########################################################################\n",
        "\n",
        "    return predict_labels"
      ],
      "execution_count": 72,
      "outputs": []
    },
    {
      "cell_type": "markdown",
      "metadata": {
        "id": "nN9AOS3UtYsr"
      },
      "source": [
        "**Calculate accuracy**\n",
        "________________"
      ]
    },
    {
      "cell_type": "code",
      "metadata": {
        "id": "ixEjN3TbwiPS"
      },
      "source": [
        "# calculate accuracy\r\n",
        "def accurate(predictions, y):\r\n",
        "    #########################################################################\r\n",
        "    # Full Mark: 1                                                          # \r\n",
        "    # TODO:                                                                 #\r\n",
        "    # 1. calculate the accuracy value                                       #\r\n",
        "    # Note that you coud not import extra library                           #\r\n",
        "    #########################################################################\r\n",
        "    \r\n",
        "    err = np.array(predictions) - y # 1 and 0s so can just do this\r\n",
        "    accuracy_score = 1 - np.mean(err)\r\n",
        "    #print(accuracy_score)\r\n",
        "    \r\n",
        "    #########################################################################\r\n",
        "    #                       END OF YOUR CODE                                #\r\n",
        "    #########################################################################\r\n",
        "    return accuracy_score"
      ],
      "execution_count": 73,
      "outputs": []
    },
    {
      "cell_type": "markdown",
      "metadata": {
        "id": "oXGba_YxMe3-"
      },
      "source": [
        "**Calling functions**\n",
        "________"
      ]
    },
    {
      "cell_type": "code",
      "metadata": {
        "id": "DAg50iSeMbdz",
        "colab": {
          "base_uri": "https://localhost:8080/"
        },
        "outputId": "f37f2a30-9bb1-4b73-f08a-3c3d043bc1d9"
      },
      "source": [
        "# please do not modify this cell\n",
        "result = opt.fmin_tnc(func=cost, x0=theta, fprime=gradient, args=(x, y))\n",
        "final_theta = result[0]\n",
        "final_cost = cost(final_theta, x, y)\n",
        "predictions = predict(final_theta, x)\n",
        "accuracy = accurate(predictions, y)\n",
        "print(\"final cost is \" + str(final_cost))\n",
        "print(\"accuracy is \" + str(accuracy))"
      ],
      "execution_count": 74,
      "outputs": [
        {
          "output_type": "stream",
          "text": [
            "final cost is 0.05171662372341682\n",
            "accuracy is 0.99\n"
          ],
          "name": "stdout"
        },
        {
          "output_type": "stream",
          "text": [
            "/usr/local/lib/python3.7/dist-packages/ipykernel_launcher.py:11: RuntimeWarning: divide by zero encountered in log\n",
            "  # This is added back by InteractiveShellApp.init_path()\n",
            "/usr/local/lib/python3.7/dist-packages/ipykernel_launcher.py:11: RuntimeWarning: invalid value encountered in multiply\n",
            "  # This is added back by InteractiveShellApp.init_path()\n"
          ],
          "name": "stderr"
        }
      ]
    },
    {
      "cell_type": "markdown",
      "metadata": {
        "id": "5oqofQH5OKuj"
      },
      "source": [
        "**Decsion boudary** "
      ]
    },
    {
      "cell_type": "code",
      "metadata": {
        "id": "EBJmxm-Y4USK"
      },
      "source": [
        "# draw decision boudary\r\n",
        "def draw_decision_boudary(final_theta,x,y):\r\n",
        "    #########################################################################\r\n",
        "    # Full Mark: 2                                                          # \r\n",
        "    # TODO:                                                                 #\r\n",
        "    # 1. plot the decision boudary on the raw data                          #\r\n",
        "    # 2. set title for the plot                                             #\r\n",
        "    # 3. set label for x,y axis                                             #\r\n",
        "    # Note, this scatter plot has two different type of points              #\r\n",
        "    #########################################################################\r\n",
        "    \r\n",
        "    #print(final_theta)\r\n",
        "    colors = iter(['r', 'g', 'b', 'c', 'm', 'y', 'k'])\r\n",
        "    # split into classes so can have label\r\n",
        "    for clas in np.unique(y):\r\n",
        "        # plot points with class\r\n",
        "        plt.scatter(x[np.where(y == clas),1], x[np.where(y == clas),2], c = next(colors), label = f'Class {clas}') # x has bias now [1, x, y]\r\n",
        "    # add decision boundary -> 0 = final_theta[0] + final_theta[1]x + final_theta[2]y\r\n",
        "    # y = -(final_theta[0] + final_theta[1]x) / final_theta[2]\r\n",
        "    x_p = np.linspace(4, 8, 1000)\r\n",
        "    y_p = lambda x_p: -(final_theta[0] + final_theta[1] * x_p) / final_theta[2]\r\n",
        "    plt.plot(x_p, y_p(x_p))\r\n",
        "    plt.xlabel(\"Length\")\r\n",
        "    plt.ylabel(\"Width\")\r\n",
        "    plt.title(\"Iris Dataset\")\r\n",
        "    plt.legend()\r\n",
        "\r\n",
        "    #########################################################################\r\n",
        "    #                       END OF YOUR CODE                                #\r\n",
        "    #########################################################################\r\n",
        "\r\n",
        "    # show plot\r\n",
        "    plt.show()"
      ],
      "execution_count": 75,
      "outputs": []
    },
    {
      "cell_type": "markdown",
      "metadata": {
        "id": "PkIodLiurfW-"
      },
      "source": [
        "Your plot should be similar to the example below"
      ]
    },
    {
      "cell_type": "code",
      "metadata": {
        "id": "ButrhJxIuyqj",
        "colab": {
          "base_uri": "https://localhost:8080/",
          "height": 295
        },
        "outputId": "cf0c1efd-dd98-4b3b-af4c-f41513e7b97d"
      },
      "source": [
        "draw_decision_boudary(final_theta,x,y)"
      ],
      "execution_count": 76,
      "outputs": [
        {
          "output_type": "display_data",
          "data": {
            "image/png": "[encoded data removed]",
            "text/plain": [
              "<Figure size 432x288 with 1 Axes>"
            ]
          },
          "metadata": {
            "tags": [],
            "needs_background": "light"
          }
        }
      ]
    }
  ]
}