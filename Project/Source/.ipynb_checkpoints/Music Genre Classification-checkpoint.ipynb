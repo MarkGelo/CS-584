{
 "cells": [
  {
   "cell_type": "code",
   "execution_count": 313,
   "metadata": {},
   "outputs": [],
   "source": [
    "# packages\n",
    "import os\n",
    "import cv2\n",
    "from tensorflow import keras\n",
    "import numpy as np\n",
    "import librosa\n",
    "import librosa.display\n",
    "import matplotlib.pyplot as plt\n",
    "import time\n",
    "from sklearn.model_selection import train_test_split\n",
    "import sklearn"
   ]
  },
  {
   "cell_type": "code",
   "execution_count": 302,
   "metadata": {},
   "outputs": [],
   "source": [
    "import tensorflow as tf\n",
    "from tensorflow.keras.utils import to_categorical\n",
    "from tensorflow.keras.models import Model\n",
    "from tensorflow.keras.layers import Input\n",
    "from tensorflow.keras.models import Sequential\n",
    "from tensorflow.keras.layers import Add\n",
    "from tensorflow.keras.layers import Dense\n",
    "from tensorflow.keras.layers import Activation\n",
    "from tensorflow.keras.layers import PReLU\n",
    "from tensorflow.keras.layers import Conv2D\n",
    "from tensorflow.keras.layers import MaxPooling2D\n",
    "from tensorflow.keras.layers import AveragePooling2D\n",
    "from tensorflow.keras.layers import GlobalAveragePooling2D\n",
    "from tensorflow.keras.layers import GlobalMaxPooling2D\n",
    "from tensorflow.keras.layers import Dropout\n",
    "from tensorflow.keras.layers import Flatten\n",
    "from tensorflow.keras.layers import BatchNormalization\n",
    "from tensorflow.keras.callbacks import ReduceLROnPlateau"
   ]
  },
  {
   "cell_type": "code",
   "execution_count": 325,
   "metadata": {},
   "outputs": [],
   "source": [
    "GTZAN = {'nGenres': 10, 'genres': ['blues', 'classical', 'country', 'disco', 'hiphop', \n",
    "                                   'jazz', 'metal', 'pop', 'reggae', 'rock']}\n",
    "EXTENDED_BALLROOM = {'nGenres': 9, 'genres': ['chacha', 'foxtrot', 'jive', 'quickstep', 'rumba',\n",
    "                                              'samba', 'tango', 'viennesewaltz', 'waltz']}\n",
    "RNG_STATE = 422\n",
    "TEST_SIZE = 0.2\n",
    "EPOCHS = 50\n",
    "BATCH_SIZE = 64"
   ]
  },
  {
   "cell_type": "markdown",
   "metadata": {},
   "source": [
    "# Processing\n",
    "\n",
    "Librosa for feature extraction of audio files\\\n",
    "STFT | MFCC | Melspectrogram | Tempogram (Fourier)\\\n",
    "\n",
    "GTZAN (10 Genres)\n",
    "Extended Ballroom (9 Genres - removed 4 for having less than 100 samples)\n",
    "..."
   ]
  },
  {
   "cell_type": "code",
   "execution_count": 125,
   "metadata": {
    "scrolled": true
   },
   "outputs": [],
   "source": [
    "def process(dataset, feature, time_split, verbose = False, save = False):\n",
    "    N_FFT = 2048\n",
    "    HOP_LENGTH = 1024\n",
    "    N_MELS = 64\n",
    "    N_MFCC = 13\n",
    "    \n",
    "    processed = []\n",
    "    processed_genres = []\n",
    "    \n",
    "    feature = feature.lower()\n",
    "    aud_path = os.path.join(os.getcwd(), \"datasets\", dataset, \"audio\")\n",
    "    if not os.path.exists(aud_path):\n",
    "        print(\"Dataset not found:\", aud_path)\n",
    "        return\n",
    "        \n",
    "    features = (\"stft\", \"melspectrogram\", \"mfcc\", \"fouriertempogram\")\n",
    "    TOTAL_GENRES = len(os.listdir(aud_path))\n",
    "\n",
    "    if feature not in features:\n",
    "        print(f\"{feature} not available for extraction\")\n",
    "        return\n",
    "    \n",
    "    feat_path = os.path.join(os.getcwd(), \"datasets\", dataset, \"features\")\n",
    "    os.path.isdir(feat_path) or os.makedirs(feat_path)\n",
    "    \n",
    "    currentGenre = 0\n",
    "    for folder in os.listdir(aud_path):\n",
    "        folder_path = os.path.join(aud_path, folder)\n",
    "        for audio in os.listdir(folder_path):  \n",
    "            audio_path = os.path.join(folder_path, audio)\n",
    "            y, sr = librosa.load(audio_path) # can user offset and duration for 5 second intervals\n",
    "            if feature == \"stft\":\n",
    "                feat = np.abs(librosa.stft(y, hop_length = HOP_LENGTH, n_fft = N_FFT))\n",
    "            elif feature == \"mfcc\":\n",
    "                feat = librosa.feature.mfcc(y = y, sr = sr, hop_length = HOP_LENGTH, \n",
    "                                                      n_fft = N_FFT, n_mels = N_MELS, n_mfcc = N_MFCC)\n",
    "            elif feature == \"melspectrogram\":\n",
    "                feat = librosa.feature.melspectrogram(y = y, sr = sr, n_mels = N_MELS, n_fft = N_FFT,\n",
    "                                                     hop_length = HOP_LENGTH)\n",
    "            elif feature == \"fouriertempogram\":\n",
    "                oenv = librosa.onset.onset_strength(y = y, sr = sr, hop_length = HOP_LENGTH)\n",
    "                feat = librosa.feature.fourier_tempogram(onset_envelope = oenv, sr = sr, hop_length = HOP_LENGTH)\n",
    "                #feat = librosa.feature.tempogram(onset_envelope = oenv, sr = sr, hop_length = HOP_LENGTH)\n",
    "            feat = librosa.power_to_db(feat ** 2) # feat ** 2 for amplitude to db\n",
    "            #if len(feat[0]) != 647:\n",
    "            #    print(len(feat[0]))\n",
    "            #print(feat.shape)\n",
    "            #print(feat[:2, :512].shape)\n",
    "            #librosa.display.specshow(feat[:, :], sr=sr, hop_length = HOP_LENGTH, x_axis = 'time', y_axis = 'mel')\n",
    "            \n",
    "            # max is (x, 647) or (x, 648) -- imma treat max as 640 -- can be //10,8,5,4,2 -> 3, 3.75, 6, 7.5, 15\n",
    "            out = feat[:, :640]\n",
    "            \n",
    "            # split into segments -- 3, 3.75, 6, 7.5, 15 seconds\n",
    "            out_split = np.hsplit(out, time_split)\n",
    "            for split in out_split:\n",
    "                #print(split.shape)\n",
    "                processed.append(split)\n",
    "                # one hot encoding\n",
    "                processed_genres.append([1 if i == currentGenre else 0 for i in range(TOTAL_GENRES)])\n",
    "                #librosa.display.specshow(split[:, :], sr=sr, hop_length = HOP_LENGTH, x_axis = 'time', y_axis = 'mel')\n",
    "            #print(len(out_split))\n",
    "            #librosa.display.specshow(out[:, :], sr=sr, hop_length = HOP_LENGTH, x_axis = 'time', y_axis = 'mel')\n",
    "            #print(out.shape)\n",
    "        currentGenre += 1\n",
    "        if verbose:\n",
    "            print(folder, \"complete;\", feature, processed[0].shape)\n",
    "    \n",
    "    X = np.array(processed)\n",
    "    Y = np.array(processed_genres)\n",
    "    \n",
    "    #print(Y[:])\n",
    "    #print(Y.shape)\n",
    "    \n",
    "    if save:\n",
    "        np.save(os.path.join(feat_path, f\"{feature + str(time_split)}-X.npy\"), X)\n",
    "        np.save(os.path.join(feat_path, f\"{feature + str(time_split)}-Y.npy\"), Y)\n",
    "    \n",
    "    return X, Y"
   ]
  },
  {
   "cell_type": "code",
   "execution_count": 123,
   "metadata": {
    "scrolled": true
   },
   "outputs": [],
   "source": [
    "features = (\"stft\", \"melspectrogram\", \"mfcc\", \"fouriertempogram\")\n",
    "datasets = (\"GTZAN\", \"Extended Ballroom\",)\n",
    "splits = (10, 8, 5, 4, 2, 1)\n",
    "for dataset in datasets:\n",
    "    print(\"Processing\", dataset, \"with total genres of\", \n",
    "              len(os.listdir(os.path.join(os.getcwd(), \"datasets\", dataset, \"audio\"))))\n",
    "    for feature in features:\n",
    "        start = time.perf_counter()\n",
    "        for split in splits:\n",
    "            process(dataset, feature, split, verbose = True, save = True)\n",
    "        print(f\"\\t{feature} with splits\", str(splits), \"took\", time.perf_counter() - start, \"seconds\")"
   ]
  },
  {
   "cell_type": "markdown",
   "metadata": {},
   "source": [
    "# Training"
   ]
  },
  {
   "cell_type": "code",
   "execution_count": 327,
   "metadata": {},
   "outputs": [],
   "source": [
    "def getFeatures(dataset, feature, split):\n",
    "    # LOADING\n",
    "    X = np.load(os.path.join(os.getcwd(), \"datasets\", dataset, \"features\", f\"{feature}{split}-X.npy\"))\n",
    "    Y = np.load(os.path.join(os.getcwd(), \"datasets\", dataset, \"features\", f\"{feature}{split}-Y.npy\"))\n",
    "    #SPLITTING\n",
    "    X_train, X_test, Y_train, Y_test = train_test_split(X, Y, test_size = TEST_SIZE, random_state = RNG_STATE)\n",
    "    \n",
    "    return (X_train, X_test, Y_train, Y_test)"
   ]
  },
  {
   "cell_type": "code",
   "execution_count": null,
   "metadata": {},
   "outputs": [],
   "source": [
    "def cnf_matrix():\n",
    "    pass"
   ]
  },
  {
   "cell_type": "markdown",
   "metadata": {},
   "source": [
    "### Base CNN"
   ]
  },
  {
   "cell_type": "code",
   "execution_count": 305,
   "metadata": {},
   "outputs": [],
   "source": [
    "def conv_block(x, n_filters, pool_size=(2, 2)):\n",
    "    x = Conv2D(n_filters, (3, 3), strides=(1, 1), padding='same')(x)\n",
    "    x = Activation('relu')(x)\n",
    "    x = MaxPooling2D(pool_size=pool_size, strides=pool_size)(x)\n",
    "    x = Dropout(0.25)(x)\n",
    "    return x"
   ]
  },
  {
   "cell_type": "code",
   "execution_count": 306,
   "metadata": {},
   "outputs": [],
   "source": [
    "# Model Definition\n",
    "def create_model(input_shape, num_genres):\n",
    "    inpt = Input(shape=input_shape)\n",
    "    x = conv_block(inpt, 16)\n",
    "    x = conv_block(x, 32)\n",
    "    x = conv_block(x, 64)\n",
    "    x = conv_block(x, 128)\n",
    "    x = conv_block(x, 256)\n",
    "    \n",
    "    # Global Pooling and MLP\n",
    "    x = Flatten()(x)\n",
    "    x = Dropout(0.5)(x)\n",
    "    x = Dense(512, activation='relu', \n",
    "              kernel_regularizer=tf.keras.regularizers.l2(0.02))(x)\n",
    "    x = Dropout(0.25)(x)\n",
    "    predictions = Dense(num_genres, \n",
    "                        activation='softmax', \n",
    "                        kernel_regularizer=tf.keras.regularizers.l2(0.02))(x)\n",
    "    \n",
    "    model = Model(inputs=inpt, outputs=predictions)\n",
    "    return model"
   ]
  },
  {
   "cell_type": "code",
   "execution_count": null,
   "metadata": {},
   "outputs": [],
   "source": [
    "opt = keras.optimizers.Adam(lr = 0.001)"
   ]
  },
  {
   "cell_type": "markdown",
   "metadata": {},
   "source": [
    "### STFT"
   ]
  },
  {
   "cell_type": "code",
   "execution_count": 328,
   "metadata": {},
   "outputs": [],
   "source": [
    "# Get Features\n",
    "X_train, X_test, Y_train, Y_test = getFeatures(\"GTZAN\", \"stft\", 10)\n",
    "\n",
    "# Model\n",
    "m = create_model(X_train.shape[1:] + (1,), 10)\n",
    "m.compile(optimizer = opt, loss = \"categorical_crossentropy\", metrics = ['categorical_accuracy'])\n",
    "m.summary()"
   ]
  },
  {
   "cell_type": "code",
   "execution_count": null,
   "metadata": {},
   "outputs": [],
   "source": [
    "m.fit(X_train, Y_train, epochs = 50, batch_size = 64)"
   ]
  },
  {
   "cell_type": "code",
   "execution_count": null,
   "metadata": {},
   "outputs": [],
   "source": [
    "preds = m.evaluate(X_train, Y_train)\n",
    "print(\"Loss:\", preds[0])\n",
    "print(\"Train Accuracy:\", preds[1])"
   ]
  },
  {
   "cell_type": "code",
   "execution_count": null,
   "metadata": {},
   "outputs": [],
   "source": [
    "preds = m.evaluate(X_test, Y_test)\n",
    "print(\"Loss:\", preds[0])\n",
    "print(\"Train Accuracy:\", preds[1])"
   ]
  },
  {
   "cell_type": "markdown",
   "metadata": {},
   "source": [
    "### MFCC"
   ]
  },
  {
   "cell_type": "code",
   "execution_count": null,
   "metadata": {},
   "outputs": [],
   "source": []
  },
  {
   "cell_type": "markdown",
   "metadata": {},
   "source": [
    "### Melspectrogram"
   ]
  },
  {
   "cell_type": "code",
   "execution_count": null,
   "metadata": {},
   "outputs": [],
   "source": []
  },
  {
   "cell_type": "markdown",
   "metadata": {},
   "source": [
    "### Fourier Tempogram"
   ]
  },
  {
   "cell_type": "code",
   "execution_count": null,
   "metadata": {},
   "outputs": [],
   "source": []
  },
  {
   "cell_type": "code",
   "execution_count": 322,
   "metadata": {},
   "outputs": [
    {
     "data": {
      "image/png": "[encoded data removed]",
      "text/plain": [
       "<Figure size 792x792 with 1 Axes>"
      ]
     },
     "metadata": {
      "needs_background": "light"
     },
     "output_type": "display_data"
    }
   ],
   "source": [
    "plt.figure(figsize=(11,11))\n",
    "cm = sklearn.metrics.confusion_matrix(np.argmax(Y_test, axis=-1), np.argmax(m.predict(X_test), axis=-1))\n",
    "plt.imshow(cm, interpolation='nearest', cmap=plt.cm.Blues)\n",
    "plt.xticks(list(range(10)), ['blues', 'classical', 'country', 'disco', 'hiphop', 'jazz', 'metal', 'pop', 'reggae', 'rock'])\n",
    "plt.yticks(list(range(10)), ['blues', 'classical', 'country', 'disco', 'hiphop', 'jazz', 'metal', 'pop', 'reggae', 'rock'])\n",
    "plt.title('Confusion matrix for DCNN model')\n",
    "plt.xlabel('Predicted genre')\n",
    "plt.ylabel('True genre')\n",
    "plt.show()"
   ]
  },
  {
   "cell_type": "markdown",
   "metadata": {},
   "source": [
    "# Testing"
   ]
  },
  {
   "cell_type": "code",
   "execution_count": 316,
   "metadata": {},
   "outputs": [
    {
     "name": "stdout",
     "output_type": "stream",
     "text": [
      "(2000, 1025, 64)\n"
     ]
    }
   ],
   "source": [
    "print(X_test.shape)"
   ]
  },
  {
   "cell_type": "code",
   "execution_count": 317,
   "metadata": {},
   "outputs": [
    {
     "name": "stdout",
     "output_type": "stream",
     "text": [
      "(8000, 1025, 64)\n"
     ]
    }
   ],
   "source": [
    "print(X_train.shape)"
   ]
  },
  {
   "cell_type": "code",
   "execution_count": 318,
   "metadata": {},
   "outputs": [
    {
     "name": "stdout",
     "output_type": "stream",
     "text": [
      "<class 'numpy.ndarray'>\n"
     ]
    }
   ],
   "source": [
    "print(type(cm))"
   ]
  },
  {
   "cell_type": "code",
   "execution_count": 319,
   "metadata": {},
   "outputs": [
    {
     "name": "stdout",
     "output_type": "stream",
     "text": [
      "[[147   0   7  15   5  10   6   0   3   6]\n",
      " [  0 193   0   2   0   3   0   0   0   3]\n",
      " [  1   1 153  18   0   7   0   0   0  21]\n",
      " [  0   0   2 183   1   0   2   0   3   4]\n",
      " [  0   0   3   8 167   0   5   2   3   3]\n",
      " [  0   8   6   0   0 187   0   0   3   4]\n",
      " [  1   0   0   2   2   0 174   0   0  12]\n",
      " [  0   1   9  32   7   0   1 147   4  12]\n",
      " [  0   1   3  44  11   0   1   7 142   9]\n",
      " [  1   5   5  17   1   1  13   0   0 140]]\n"
     ]
    }
   ],
   "source": [
    "print(cm)"
   ]
  },
  {
   "cell_type": "code",
   "execution_count": 320,
   "metadata": {},
   "outputs": [
    {
     "name": "stdout",
     "output_type": "stream",
     "text": [
      "[[0.0735 0.     0.0035 0.0075 0.0025 0.005  0.003  0.     0.0015 0.003 ]\n",
      " [0.     0.0965 0.     0.001  0.     0.0015 0.     0.     0.     0.0015]\n",
      " [0.0005 0.0005 0.0765 0.009  0.     0.0035 0.     0.     0.     0.0105]\n",
      " [0.     0.     0.001  0.0915 0.0005 0.     0.001  0.     0.0015 0.002 ]\n",
      " [0.     0.     0.0015 0.004  0.0835 0.     0.0025 0.001  0.0015 0.0015]\n",
      " [0.     0.004  0.003  0.     0.     0.0935 0.     0.     0.0015 0.002 ]\n",
      " [0.0005 0.     0.     0.001  0.001  0.     0.087  0.     0.     0.006 ]\n",
      " [0.     0.0005 0.0045 0.016  0.0035 0.     0.0005 0.0735 0.002  0.006 ]\n",
      " [0.     0.0005 0.0015 0.022  0.0055 0.     0.0005 0.0035 0.071  0.0045]\n",
      " [0.0005 0.0025 0.0025 0.0085 0.0005 0.0005 0.0065 0.     0.     0.07  ]]\n"
     ]
    }
   ],
   "source": [
    "print(cm/np.sum(cm))"
   ]
  }
 ],
 "metadata": {
  "kernelspec": {
   "display_name": "Python 3",
   "language": "python",
   "name": "python3"
  },
  "language_info": {
   "codemirror_mode": {
    "name": "ipython",
    "version": 3
   },
   "file_extension": ".py",
   "mimetype": "text/x-python",
   "name": "python",
   "nbconvert_exporter": "python",
   "pygments_lexer": "ipython3",
   "version": "3.8.5"
  }
 },
 "nbformat": 4,
 "nbformat_minor": 4
}
