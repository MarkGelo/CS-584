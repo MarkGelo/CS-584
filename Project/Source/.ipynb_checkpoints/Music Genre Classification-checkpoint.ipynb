{
 "cells": [
  {
   "cell_type": "code",
   "execution_count": 12,
   "metadata": {},
   "outputs": [],
   "source": [
    "# packages\n",
    "import os\n",
    "import cv2\n",
    "from tensorflow import keras\n",
    "import numpy as np\n",
    "import librosa\n",
    "import librosa.display\n",
    "import matplotlib.pyplot as plt\n",
    "import time\n",
    "from sklearn.model_selection import train_test_split\n",
    "import sklearn\n",
    "import tensorflow as tf\n",
    "import pandas as pd"
   ]
  },
  {
   "cell_type": "code",
   "execution_count": 2,
   "metadata": {},
   "outputs": [],
   "source": [
    "from tensorflow.keras.models import Model\n",
    "from tensorflow.keras.layers import Input\n",
    "from tensorflow.keras.models import Sequential\n",
    "from tensorflow.keras.layers import Add\n",
    "from tensorflow.keras.layers import Dense\n",
    "from tensorflow.keras.layers import Activation\n",
    "from tensorflow.keras.layers import PReLU\n",
    "from tensorflow.keras.layers import Conv2D\n",
    "from tensorflow.keras.layers import MaxPooling2D\n",
    "from tensorflow.keras.layers import AveragePooling2D\n",
    "from tensorflow.keras.layers import GlobalAveragePooling2D\n",
    "from tensorflow.keras.layers import GlobalMaxPooling2D\n",
    "from tensorflow.keras.layers import Dropout\n",
    "from tensorflow.keras.layers import Flatten\n",
    "from tensorflow.keras.layers import BatchNormalization\n",
    "from tensorflow.keras.layers import Bidirectional\n",
    "from tensorflow.keras.layers import LSTM\n",
    "from tensorflow.keras.layers import SimpleRNN\n",
    "from tensorflow.keras.callbacks import ReduceLROnPlateau\n",
    "from tensorflow.keras.layers import Embedding"
   ]
  },
  {
   "cell_type": "code",
   "execution_count": 3,
   "metadata": {},
   "outputs": [],
   "source": [
    "GTZAN = {'nGenres': 10, 'genres': ['blues', 'classical', 'country', 'disco', 'hiphop', \n",
    "                                   'jazz', 'metal', 'pop', 'reggae', 'rock']}\n",
    "EXTENDED_BALLROOM = {'nGenres': 9, 'genres': ['chacha', 'foxtrot', 'jive', 'quickstep', 'rumba',\n",
    "                                              'samba', 'tango', 'viennesewaltz', 'waltz']}\n",
    "FEATURES = ('stft', 'mfcc', 'melspectrogram', 'fouriertempogram')\n",
    "RNG_STATE = 422\n",
    "TEST_SIZE = 0.2\n",
    "EPOCHS = 50\n",
    "BATCH_SIZE = 64"
   ]
  },
  {
   "cell_type": "markdown",
   "metadata": {},
   "source": [
    "# Processing\n",
    "\n",
    "Librosa for feature extraction of audio files\\\n",
    "STFT | MFCC | Melspectrogram | Fourier Tempogram\n",
    "\n",
    "GTZAN (10 Genres)\\\n",
    "Extended Ballroom (9 Genres - removed 4 for having less than 100 samples)"
   ]
  },
  {
   "cell_type": "code",
   "execution_count": null,
   "metadata": {
    "scrolled": true
   },
   "outputs": [],
   "source": [
    "def process(dataset, feature, time_split, verbose = False, save = False):\n",
    "    N_FFT = 2048\n",
    "    HOP_LENGTH = 1024\n",
    "    N_MELS = 64\n",
    "    N_MFCC = 13\n",
    "    \n",
    "    processed = []\n",
    "    processed_genres = []\n",
    "    \n",
    "    feature = feature.lower()\n",
    "    aud_path = os.path.join(os.getcwd(), \"datasets\", dataset, \"audio\")\n",
    "    if not os.path.exists(aud_path):\n",
    "        print(\"Dataset not found:\", aud_path)\n",
    "        return\n",
    "        \n",
    "    features = (\"stft\", \"melspectrogram\", \"mfcc\", \"fouriertempogram\")\n",
    "    TOTAL_GENRES = len(os.listdir(aud_path))\n",
    "\n",
    "    if feature not in features:\n",
    "        print(f\"{feature} not available for extraction\")\n",
    "        return\n",
    "    \n",
    "    feat_path = os.path.join(os.getcwd(), \"datasets\", dataset, \"features\")\n",
    "    os.path.isdir(feat_path) or os.makedirs(feat_path)\n",
    "    \n",
    "    currentGenre = 0\n",
    "    for folder in os.listdir(aud_path):\n",
    "        folder_path = os.path.join(aud_path, folder)\n",
    "        for audio in os.listdir(folder_path):  \n",
    "            audio_path = os.path.join(folder_path, audio)\n",
    "            y, sr = librosa.load(audio_path) # can user offset and duration for 5 second intervals\n",
    "            if feature == \"stft\":\n",
    "                feat = np.abs(librosa.stft(y, hop_length = HOP_LENGTH, n_fft = N_FFT))\n",
    "            elif feature == \"mfcc\":\n",
    "                feat = librosa.feature.mfcc(y = y, sr = sr, hop_length = HOP_LENGTH, \n",
    "                                                      n_fft = N_FFT)\n",
    "            elif feature == \"melspectrogram\":\n",
    "                feat = librosa.feature.melspectrogram(y = y, sr = sr, n_mels = N_MELS, n_fft = N_FFT,\n",
    "                                                     hop_length = HOP_LENGTH)\n",
    "            elif feature == \"fouriertempogram\":\n",
    "                oenv = librosa.onset.onset_strength(y = y, sr = sr, hop_length = HOP_LENGTH)\n",
    "                feat = librosa.feature.fourier_tempogram(onset_envelope = oenv, sr = sr, hop_length = HOP_LENGTH)\n",
    "                #feat = librosa.feature.tempogram(onset_envelope = oenv, sr = sr, hop_length = HOP_LENGTH)\n",
    "            feat = librosa.power_to_db(feat ** 2) # feat ** 2 for amplitude to db\n",
    "            #if len(feat[0]) != 647:\n",
    "            #    print(len(feat[0]))\n",
    "            #print(feat.shape)\n",
    "            #print(feat[:2, :512].shape)\n",
    "            #librosa.display.specshow(feat[:, :], sr=sr, hop_length = HOP_LENGTH, x_axis = 'time', y_axis = 'mel')\n",
    "            #print(feat.shape)\n",
    "            \n",
    "            # max is (x, 647) or (x, 648) -- imma treat max as 640 -- can be //10,8,5,4,2 -> 3, 3.75, 6, 7.5, 15\n",
    "            out = feat[:, :640]\n",
    "\n",
    "            # split into segments -- 3, 3.75, 6, 7.5, 15 seconds\n",
    "            out_split = np.hsplit(out, time_split)\n",
    "            for split in out_split:\n",
    "                #print(split.shape)\n",
    "                processed.append(split)\n",
    "                # one hot encoding\n",
    "                processed_genres.append([1 if i == currentGenre else 0 for i in range(TOTAL_GENRES)])\n",
    "                #librosa.display.specshow(split[:, :], sr=sr, hop_length = HOP_LENGTH, x_axis = 'time', y_axis = 'mel')\n",
    "            #print(len(out_split))\n",
    "            #librosa.display.specshow(out[:, :], sr=sr, hop_length = HOP_LENGTH, x_axis = 'time', y_axis = 'mel')\n",
    "        currentGenre += 1\n",
    "        if verbose:\n",
    "            print(folder, \"complete;\", feature, processed[0].shape)\n",
    "    \n",
    "    X = np.array(processed)\n",
    "    Y = np.array(processed_genres)\n",
    "    \n",
    "    \n",
    "    if save:\n",
    "        np.save(os.path.join(feat_path, f\"{feature + str(time_split)}-X.npy\"), X)\n",
    "        np.save(os.path.join(feat_path, f\"{feature + str(time_split)}-Y.npy\"), Y)\n",
    "    \n",
    "    return X, Y"
   ]
  },
  {
   "cell_type": "markdown",
   "metadata": {},
   "source": [
    "### Run to extract features if have not done so already\n",
    "\n",
    "Extracting features from Extended Ballroom taks a while, 10x+ longer than GTZAN"
   ]
  },
  {
   "cell_type": "code",
   "execution_count": null,
   "metadata": {
    "scrolled": false
   },
   "outputs": [],
   "source": [
    "#features = (\"stft\", \"melspectrogram\", \"mfcc\", \"fouriertempogram\",)\n",
    "features = (\"mfcc\",)\n",
    "#datasets = (\"GTZAN\", \"Extended Ballroom\",)\n",
    "datasets = (\"Extended Ballroom\",)\n",
    "splits = (10, 8, 5, 4, 2, 1)\n",
    "for dataset in datasets:\n",
    "    print(\"Processing\", dataset, \"with total genres of\", \n",
    "              len(os.listdir(os.path.join(os.getcwd(), \"datasets\", dataset, \"audio\"))))\n",
    "    for feature in features:\n",
    "        start = time.perf_counter()\n",
    "        for split in splits:\n",
    "            process(dataset, feature, split, verbose = True, save = True)\n",
    "        print(f\"\\t{feature} with splits\", str(splits), \"took\", time.perf_counter() - start, \"seconds\")"
   ]
  },
  {
   "cell_type": "markdown",
   "metadata": {},
   "source": [
    "# Training"
   ]
  },
  {
   "attachments": {
    "image-2.png": {
     "image/png": "[encoded data removed]"
    },
    "image-3.png": {
     "image/png": "[encoded data removed]"
    },
    "image.png": {
     "image/png": "[encoded data removed]"
    }
   },
   "cell_type": "markdown",
   "metadata": {},
   "source": [
    "### References\n",
    "\n",
    "yang2020parallel\n",
    "![image.png](attachment:image.png)\n",
    "\n",
    "![image-2.png](attachment:image-2.png)\n",
    "\n",
    "![image-3.png](attachment:image-3.png)"
   ]
  },
  {
   "cell_type": "code",
   "execution_count": 4,
   "metadata": {},
   "outputs": [],
   "source": [
    "def getFeatures(dataset, feature, split):\n",
    "    # LOADING\n",
    "    X = np.load(os.path.join(os.getcwd(), \"datasets\", dataset, \"features\", f\"{feature}{split}-X.npy\"))\n",
    "    Y = np.load(os.path.join(os.getcwd(), \"datasets\", dataset, \"features\", f\"{feature}{split}-Y.npy\"))\n",
    "    #SPLITTING\n",
    "    X_train, X_test, Y_train, Y_test = train_test_split(X, Y, test_size = TEST_SIZE, random_state = RNG_STATE)\n",
    "    \n",
    "    return (X_train, X_test, Y_train, Y_test)"
   ]
  },
  {
   "cell_type": "code",
   "execution_count": 5,
   "metadata": {},
   "outputs": [],
   "source": [
    "def cnf_matrix():\n",
    "    plt.figure(figsize=(11,11))\n",
    "    cm = sklearn.metrics.confusion_matrix(np.argmax(Y_test, axis=-1), np.argmax(m.predict(X_test), axis=-1))\n",
    "    plt.imshow(cm, interpolation='nearest', cmap=plt.cm.Blues)\n",
    "    plt.xticks(list(range(10)), ['blues', 'classical', 'country', 'disco', 'hiphop', 'jazz', 'metal', 'pop', 'reggae', 'rock'])\n",
    "    plt.yticks(list(range(10)), ['blues', 'classical', 'country', 'disco', 'hiphop', 'jazz', 'metal', 'pop', 'reggae', 'rock'])\n",
    "    plt.title('Confusion matrix for DCNN model')\n",
    "    plt.xlabel('Predicted genre')\n",
    "    plt.ylabel('True genre')\n",
    "    thresh = cm.max() / 2.\n",
    "    for i, j in itertools.product(range(cm.shape[0]), range(cm.shape[1])):\n",
    "        plt.text(j, i, format(cm[i, j], fmt),\n",
    "                 horizontalalignment=\"center\",\n",
    "                 color=\"white\" if cm[i, j] > thresh else \"black\")\n",
    "    plt.show()"
   ]
  },
  {
   "cell_type": "markdown",
   "metadata": {},
   "source": [
    "## Base CNN\n",
    "\n",
    "Explain general structure of what i did"
   ]
  },
  {
   "cell_type": "markdown",
   "metadata": {},
   "source": [
    "### STFT (1025, 640)"
   ]
  },
  {
   "cell_type": "code",
   "execution_count": null,
   "metadata": {},
   "outputs": [],
   "source": [
    "def conv_block(x, n_filters, kernel_size, conv_strides, pool_strides, pool_size):\n",
    "    x = Conv2D(n_filters, kernel_size, strides = conv_strides, padding='same')(x)\n",
    "    #x = BatchNormalization()(x) # should do this\n",
    "    x = Activation('relu')(x)\n",
    "    \n",
    "    # reduce overfitting by oversampling? extracts most prominent features\n",
    "    x = MaxPooling2D(pool_size=pool_size, strides=pool_size)(x)\n",
    "    x = Dropout(0.25)(x) # to reduce overfitting # shouldnt do this when its first level\n",
    "    return x"
   ]
  },
  {
   "cell_type": "code",
   "execution_count": null,
   "metadata": {},
   "outputs": [],
   "source": [
    "def CNN(input_shape, num_genres):\n",
    "    inpt = Input(shape=input_shape)\n",
    "    \n",
    "    x = conv_block(inpt, n_filters = 16, kernel_size = (3, 3), \n",
    "                   conv_strides = (1, 1), pool_strides = (2, 2), pool_size = (2, 2))\n",
    "    \n",
    "    x = conv_block(x, n_filters = 32, kernel_size = (3, 3), \n",
    "                   conv_strides = (1, 1), pool_strides = (2, 2), pool_size = (2, 2))\n",
    "    \n",
    "    x = conv_block(x, n_filters = 64, kernel_size = (3, 3), \n",
    "                   conv_strides = (1, 1), pool_strides = (2, 2), pool_size = (2, 2))\n",
    "    \n",
    "    x = conv_block(x, n_filters = 128, kernel_size = (3, 3), \n",
    "                   conv_strides = (1, 1), pool_strides = (4, 4), pool_size = (4, 4))\n",
    "    \n",
    "    x = conv_block(x, n_filters = 64, kernel_size = (3, 3), \n",
    "                   conv_strides = (1, 1), pool_strides = (2, 2), pool_size = (2, 2))\n",
    "    \n",
    "    x = Flatten()(x)\n",
    "    x = Dropout(0.5)(x)\n",
    "    x = Dense(256, activation='relu', \n",
    "              kernel_regularizer = tf.keras.regularizers.l2(0.01))(x)\n",
    "    x = Dropout(0.25)(x)\n",
    "    predictions = Dense(num_genres, \n",
    "                        activation='softmax', \n",
    "                        kernel_regularizer = tf.keras.regularizers.l2(0.02))(x)\n",
    "    \n",
    "    model = Model(inputs=inpt, outputs=predictions)\n",
    "    return model"
   ]
  },
  {
   "cell_type": "markdown",
   "metadata": {},
   "source": [
    "#### GTZAN"
   ]
  },
  {
   "cell_type": "code",
   "execution_count": null,
   "metadata": {},
   "outputs": [],
   "source": [
    "# Get Features\n",
    "X_train, X_test, Y_train, Y_test = getFeatures(\"GTZAN\", \"stft\", 10)\n",
    "\n",
    "# Model\n",
    "m = CNN(X_train.shape[1:] + (1,), 10)\n",
    "opt = keras.optimizers.Adam(lr = 0.001)\n",
    "m.compile(optimizer = opt, loss = \"categorical_crossentropy\", metrics = ['categorical_accuracy'])\n",
    "m.summary()"
   ]
  },
  {
   "cell_type": "code",
   "execution_count": null,
   "metadata": {},
   "outputs": [],
   "source": [
    "m.fit(X_train, Y_train, epochs = EPOCHS, batch_size = BATCH_SIZE)"
   ]
  },
  {
   "cell_type": "code",
   "execution_count": null,
   "metadata": {},
   "outputs": [],
   "source": [
    "preds = m.evaluate(X_train, Y_train)\n",
    "print(\"Loss:\", preds[0])\n",
    "print(\"Train Accuracy:\", preds[1])"
   ]
  },
  {
   "cell_type": "code",
   "execution_count": null,
   "metadata": {},
   "outputs": [],
   "source": [
    "preds = m.evaluate(X_test, Y_test)\n",
    "print(\"Loss:\", preds[0])\n",
    "print(\"Train Accuracy:\", preds[1])"
   ]
  },
  {
   "cell_type": "code",
   "execution_count": null,
   "metadata": {},
   "outputs": [],
   "source": [
    "m.save('models/gtzan-cnn-stft.h5')"
   ]
  },
  {
   "cell_type": "markdown",
   "metadata": {},
   "source": [
    "#### Extended Ballroom"
   ]
  },
  {
   "cell_type": "code",
   "execution_count": null,
   "metadata": {},
   "outputs": [],
   "source": [
    "# Get Features\n",
    "X_train, X_test, Y_train, Y_test = getFeatures(\"Extended Ballroom\", \"stft\", 10)"
   ]
  },
  {
   "cell_type": "code",
   "execution_count": null,
   "metadata": {
    "scrolled": true
   },
   "outputs": [],
   "source": [
    "# Model\n",
    "m = CNN(X_train.shape[1:] + (1,), EXTENDED_BALLROOM['nGenres'])\n",
    "opt = keras.optimizers.Adam(lr = 0.001)\n",
    "m.compile(optimizer = opt, loss = \"categorical_crossentropy\", metrics = ['categorical_accuracy'])\n",
    "m.summary()"
   ]
  },
  {
   "cell_type": "code",
   "execution_count": null,
   "metadata": {},
   "outputs": [],
   "source": [
    "m.fit(X_train, Y_train, epochs = 10, batch_size = BATCH_SIZE) \n",
    "# shuffle = True and use callbacks to perform early stopping or save model each epoch or save history, loss, acc, each epoch"
   ]
  },
  {
   "cell_type": "code",
   "execution_count": null,
   "metadata": {},
   "outputs": [],
   "source": [
    "preds = m.evaluate(X_train, Y_train)\n",
    "print(\"Loss:\", preds[0])\n",
    "print(\"Train Accuracy:\", preds[1])"
   ]
  },
  {
   "cell_type": "code",
   "execution_count": null,
   "metadata": {},
   "outputs": [],
   "source": [
    "preds = m.evaluate(X_test, Y_test)\n",
    "print(\"Loss:\", preds[0])\n",
    "print(\"Train Accuracy:\", preds[1])"
   ]
  },
  {
   "cell_type": "code",
   "execution_count": null,
   "metadata": {},
   "outputs": [],
   "source": [
    "m.save('models/extended_ballroom-cnn-stft.h5')"
   ]
  },
  {
   "cell_type": "markdown",
   "metadata": {},
   "source": [
    "### MFCC (20, 640)"
   ]
  },
  {
   "cell_type": "code",
   "execution_count": null,
   "metadata": {},
   "outputs": [],
   "source": [
    "def MFCC_block(x, n_filters, kernel_size, conv_strides, pool_strides, pool_size):\n",
    "    x = Conv2D(n_filters, kernel_size, strides = conv_strides, padding='same')(x)\n",
    "    x = BatchNormalization()(x)\n",
    "    x = Activation('relu')(x)\n",
    "    \n",
    "    # reduce overfitting by oversampling? extracts most prominent features\n",
    "    x = MaxPooling2D(pool_size=pool_size, strides=pool_size)(x)\n",
    "    x = Dropout(0.25)(x) # to reduce overfitting # shouldnt do this when its first level\n",
    "    return x"
   ]
  },
  {
   "cell_type": "code",
   "execution_count": null,
   "metadata": {},
   "outputs": [],
   "source": [
    "def MFCC_CNN(input_shape, num_genres):\n",
    "    inpt = Input(shape=input_shape)\n",
    "    \n",
    "    x = MFCC_block(inpt, n_filters = 32, kernel_size = (3, 3), \n",
    "                   conv_strides = (1, 1), pool_strides = (2, 2), pool_size = (2, 2))\n",
    "    \n",
    "    x = MFCC_block(x, n_filters = 64, kernel_size = (3, 3), \n",
    "                   conv_strides = (1, 1), pool_strides = (2, 2), pool_size = (2, 2))\n",
    "    \n",
    "    x = MFCC_block(x, n_filters = 128, kernel_size = (3, 3), \n",
    "                   conv_strides = (1, 1), pool_strides = (2, 2), pool_size = (2, 2))\n",
    "    \n",
    "    x = MFCC_block(x, n_filters = 64, kernel_size = (3, 3), \n",
    "                   conv_strides = (1, 1), pool_strides = (2, 2), pool_size = (2, 2))\n",
    "    \n",
    "    x = Flatten()(x)\n",
    "    x = Dropout(0.25)(x)\n",
    "    x = Dense(256, activation='relu', \n",
    "              kernel_regularizer = tf.keras.regularizers.l2(0.01))(x)\n",
    "    x = Dropout(0.25)(x)\n",
    "    predictions = Dense(num_genres, \n",
    "                        activation='softmax', \n",
    "                        kernel_regularizer = tf.keras.regularizers.l2(0.02))(x)\n",
    "    \n",
    "    model = Model(inputs=inpt, outputs=predictions)\n",
    "    return model"
   ]
  },
  {
   "cell_type": "markdown",
   "metadata": {},
   "source": [
    "#### GTZAN"
   ]
  },
  {
   "cell_type": "code",
   "execution_count": null,
   "metadata": {
    "scrolled": true
   },
   "outputs": [],
   "source": [
    "# Get Features\n",
    "X_train, X_test, Y_train, Y_test = getFeatures(\"GTZAN\", \"mfcc\", 8)\n",
    "print(X_train.shape)\n",
    "plt.imshow(X_train[1])\n",
    "# Model\n",
    "m = MFCC_CNN(X_train.shape[1:] + (1,), 10)\n",
    "opt = keras.optimizers.Adam(lr = 0.001)\n",
    "m.compile(optimizer = opt, loss = \"categorical_crossentropy\", metrics = ['categorical_accuracy'])\n",
    "m.summary()"
   ]
  },
  {
   "cell_type": "code",
   "execution_count": null,
   "metadata": {
    "scrolled": true
   },
   "outputs": [],
   "source": [
    "m.fit(X_train, Y_train, epochs = 75, batch_size = BATCH_SIZE)"
   ]
  },
  {
   "cell_type": "code",
   "execution_count": null,
   "metadata": {},
   "outputs": [],
   "source": [
    "preds = m.evaluate(X_train, Y_train)\n",
    "print(\"Loss:\", preds[0])\n",
    "print(\"Train Accuracy:\", preds[1])"
   ]
  },
  {
   "cell_type": "code",
   "execution_count": null,
   "metadata": {},
   "outputs": [],
   "source": [
    "preds = m.evaluate(X_test, Y_test)\n",
    "print(X_test.shape)\n",
    "print(\"Loss:\", preds[0])\n",
    "print(\"Train Accuracy:\", preds[1])"
   ]
  },
  {
   "cell_type": "code",
   "execution_count": null,
   "metadata": {},
   "outputs": [],
   "source": [
    "m.save('models/gtzan-cnn-mfcc.h5')"
   ]
  },
  {
   "cell_type": "markdown",
   "metadata": {},
   "source": [
    "#### Extended Ballroom"
   ]
  },
  {
   "cell_type": "code",
   "execution_count": null,
   "metadata": {},
   "outputs": [],
   "source": [
    "# Get Features\n",
    "X_train, X_test, Y_train, Y_test = getFeatures(\"Extended Ballroom\", \"mfcc\", 8)\n",
    "print(X_train.shape)\n",
    "plt.imshow(X_train[1])\n",
    "# Model\n",
    "m = MFCC_CNN(X_train.shape[1:] + (1,), EXTENDED_BALLROOM['nGenres'])\n",
    "opt = keras.optimizers.Adam(lr = 0.001)\n",
    "m.compile(optimizer = opt, loss = \"categorical_crossentropy\", metrics = ['categorical_accuracy'])\n",
    "m.summary()"
   ]
  },
  {
   "cell_type": "code",
   "execution_count": null,
   "metadata": {},
   "outputs": [],
   "source": [
    "m.fit(X_train, Y_train, epochs = 75, batch_size = BATCH_SIZE)"
   ]
  },
  {
   "cell_type": "code",
   "execution_count": null,
   "metadata": {},
   "outputs": [],
   "source": [
    "preds = m.evaluate(X_train, Y_train)\n",
    "print(\"Loss:\", preds[0])\n",
    "print(\"Train Accuracy:\", preds[1])"
   ]
  },
  {
   "cell_type": "code",
   "execution_count": null,
   "metadata": {},
   "outputs": [],
   "source": [
    "preds = m.evaluate(X_test, Y_test)\n",
    "print(X_test.shape)\n",
    "print(\"Loss:\", preds[0])\n",
    "print(\"Train Accuracy:\", preds[1])"
   ]
  },
  {
   "cell_type": "code",
   "execution_count": null,
   "metadata": {},
   "outputs": [],
   "source": [
    "m.save('models/extended_ballroom-cnn-mfcc.h5')"
   ]
  },
  {
   "cell_type": "markdown",
   "metadata": {},
   "source": [
    "### Melspectrogram (64, 640)"
   ]
  },
  {
   "cell_type": "code",
   "execution_count": null,
   "metadata": {},
   "outputs": [],
   "source": [
    "def mel_block(x, n_filters, kernel_size, conv_strides, pool_strides, pool_size):\n",
    "    x = Conv2D(n_filters, kernel_size, strides = conv_strides, padding='same')(x)\n",
    "    #x = BatchNormalization()(x)\n",
    "    x = Activation('relu')(x)\n",
    "    \n",
    "    # reduce overfitting by oversampling? extracts most prominent features\n",
    "    x = MaxPooling2D(pool_size=pool_size, strides=pool_size)(x)\n",
    "    x = Dropout(0.25)(x) # to reduce overfitting # shouldnt do this when its first level\n",
    "    return x"
   ]
  },
  {
   "cell_type": "code",
   "execution_count": null,
   "metadata": {},
   "outputs": [],
   "source": [
    "def MEL_CNN(input_shape, num_genres):\n",
    "    inpt = Input(shape=input_shape)\n",
    "    \n",
    "    x = mel_block(inpt, n_filters = 16, kernel_size = (3, 3), \n",
    "                   conv_strides = (1, 1), pool_strides = (2, 2), pool_size = (2, 2))\n",
    "    \n",
    "    x = mel_block(x, n_filters = 32, kernel_size = (3, 3), \n",
    "                   conv_strides = (1, 1), pool_strides = (2, 2), pool_size = (2, 2))\n",
    "    \n",
    "    x = mel_block(x, n_filters = 64, kernel_size = (3, 3), \n",
    "                   conv_strides = (1, 1), pool_strides = (2, 2), pool_size = (2, 2))\n",
    "    \n",
    "    x = mel_block(x, n_filters = 128, kernel_size = (3, 3), \n",
    "                   conv_strides = (1, 1), pool_strides = (4, 4), pool_size = (4, 4))\n",
    "    \n",
    "    x = Flatten()(x)\n",
    "    x = Dropout(0.5)(x)\n",
    "    x = Dense(256, activation='relu', \n",
    "              kernel_regularizer = tf.keras.regularizers.l2(0.01))(x)\n",
    "    x = Dropout(0.25)(x)\n",
    "    \n",
    "    predictions = Dense(num_genres, \n",
    "                        activation='softmax', \n",
    "                        kernel_regularizer = tf.keras.regularizers.l2(0.02))(x)\n",
    "    \n",
    "    model = Model(inputs=inpt, outputs=predictions)\n",
    "    return model"
   ]
  },
  {
   "cell_type": "markdown",
   "metadata": {},
   "source": [
    "#### GTZAN"
   ]
  },
  {
   "cell_type": "code",
   "execution_count": null,
   "metadata": {},
   "outputs": [],
   "source": [
    "# Get Features\n",
    "X_train, X_test, Y_train, Y_test = getFeatures(\"GTZAN\", \"melspectrogram\", 4)\n",
    "print(X_train.shape)\n",
    "plt.imshow(X_train[1])\n",
    "# Model\n",
    "m = MEL_CNN(X_train.shape[1:] + (1,), 10)\n",
    "opt = keras.optimizers.Adam(lr = 0.001)\n",
    "m.compile(optimizer = opt, loss = \"categorical_crossentropy\", metrics = ['categorical_accuracy'])\n",
    "m.summary()"
   ]
  },
  {
   "cell_type": "code",
   "execution_count": null,
   "metadata": {
    "scrolled": true
   },
   "outputs": [],
   "source": [
    "m.fit(X_train, Y_train, epochs = 100, batch_size = BATCH_SIZE)"
   ]
  },
  {
   "cell_type": "code",
   "execution_count": null,
   "metadata": {},
   "outputs": [],
   "source": [
    "preds = m.evaluate(X_train, Y_train)\n",
    "print(\"Loss:\", preds[0])\n",
    "print(\"Train Accuracy:\", preds[1])"
   ]
  },
  {
   "cell_type": "code",
   "execution_count": null,
   "metadata": {},
   "outputs": [],
   "source": [
    "preds = m.evaluate(X_test, Y_test)\n",
    "print(X_test.shape)\n",
    "print(\"Loss:\", preds[0])\n",
    "print(\"Train Accuracy:\", preds[1])"
   ]
  },
  {
   "cell_type": "code",
   "execution_count": null,
   "metadata": {},
   "outputs": [],
   "source": [
    "m.save('models/gtzan-cnn-melspectrogram.h5')"
   ]
  },
  {
   "cell_type": "markdown",
   "metadata": {},
   "source": [
    "#### Extended Ballroom"
   ]
  },
  {
   "cell_type": "code",
   "execution_count": null,
   "metadata": {},
   "outputs": [],
   "source": [
    "# Get Features\n",
    "X_train, X_test, Y_train, Y_test = getFeatures(\"Extended Ballroom\", \"melspectrogram\", 4)\n",
    "print(X_train.shape)\n",
    "plt.imshow(X_train[1])\n",
    "# Model\n",
    "m = MEL_CNN(X_train.shape[1:] + (1,), EXTENDED_BALLROOM['nGenres'])\n",
    "opt = keras.optimizers.Adam(lr = 0.001)\n",
    "m.compile(optimizer = opt, loss = \"categorical_crossentropy\", metrics = ['categorical_accuracy'])\n",
    "m.summary()"
   ]
  },
  {
   "cell_type": "code",
   "execution_count": null,
   "metadata": {},
   "outputs": [],
   "source": [
    "m.fit(X_train, Y_train, epochs = 20, batch_size = BATCH_SIZE)"
   ]
  },
  {
   "cell_type": "code",
   "execution_count": null,
   "metadata": {},
   "outputs": [],
   "source": [
    "preds = m.evaluate(X_train, Y_train)\n",
    "print(\"Loss:\", preds[0])\n",
    "print(\"Train Accuracy:\", preds[1])"
   ]
  },
  {
   "cell_type": "code",
   "execution_count": null,
   "metadata": {},
   "outputs": [],
   "source": [
    "preds = m.evaluate(X_test, Y_test)\n",
    "print(X_test.shape)\n",
    "print(\"Loss:\", preds[0])\n",
    "print(\"Train Accuracy:\", preds[1])"
   ]
  },
  {
   "cell_type": "code",
   "execution_count": null,
   "metadata": {},
   "outputs": [],
   "source": [
    "m.save('models/extended_ballroom-cnn-melspectrogram.h5')"
   ]
  },
  {
   "cell_type": "markdown",
   "metadata": {},
   "source": [
    "### Fourier Tempogram (193, 640)"
   ]
  },
  {
   "cell_type": "code",
   "execution_count": null,
   "metadata": {},
   "outputs": [],
   "source": [
    "def temp_block(x, n_filters, kernel_size, conv_strides, pool_strides, pool_size, dropout = None):\n",
    "    x = Conv2D(n_filters, kernel_size, strides = conv_strides, padding='same')(x)\n",
    "    #x = BatchNormalization()(x)\n",
    "    x = Activation('relu')(x)\n",
    "    \n",
    "    # reduce overfitting by oversampling? extracts most prominent features\n",
    "    x = MaxPooling2D(pool_size=pool_size, strides=pool_size)(x)\n",
    "    if dropout:\n",
    "        x = Dropout(dropout)(x) # to reduce overfitting # shouldnt do this when its first level\n",
    "    return x"
   ]
  },
  {
   "cell_type": "code",
   "execution_count": null,
   "metadata": {},
   "outputs": [],
   "source": [
    "def TEMP_CNN(input_shape, num_genres):\n",
    "    inpt = Input(shape=input_shape)\n",
    "    \n",
    "    x = temp_block(inpt, n_filters = 16, kernel_size = (3, 3), \n",
    "                   conv_strides = (1, 1), pool_strides = (2, 2), pool_size = (2, 2))\n",
    "    \n",
    "    x = temp_block(x, n_filters = 32, kernel_size = (3, 3), \n",
    "                   conv_strides = (1, 1), pool_strides = (2, 2), pool_size = (2, 2), dropout = 0.1)\n",
    "    \n",
    "    x = temp_block(x, n_filters = 64, kernel_size = (3, 3), \n",
    "                   conv_strides = (1, 1), pool_strides = (2, 2), pool_size = (2, 2), dropout = 0.1)\n",
    "    \n",
    "    x = temp_block(x, n_filters = 128, kernel_size = (3, 3), \n",
    "                   conv_strides = (1, 1), pool_strides = (2, 2), pool_size = (2, 2), dropout = 0.1)\n",
    "    \n",
    "    x = temp_block(x, n_filters = 64, kernel_size = (3, 3), \n",
    "                   conv_strides = (1, 1), pool_strides = (2, 2), pool_size = (2, 2), dropout = 0.1)\n",
    "    \n",
    "    x = Flatten()(x)\n",
    "    x = Dropout(0.5)(x)\n",
    "    x = Dense(256, activation='relu', \n",
    "              kernel_regularizer = tf.keras.regularizers.l2(0.01))(x)\n",
    "    x = Dropout(0.25)(x)\n",
    "    \n",
    "    predictions = Dense(num_genres, \n",
    "                        activation='softmax', \n",
    "                        kernel_regularizer = tf.keras.regularizers.l2(0.02))(x)\n",
    "    \n",
    "    model = Model(inputs=inpt, outputs=predictions)\n",
    "    return model"
   ]
  },
  {
   "cell_type": "markdown",
   "metadata": {},
   "source": [
    "#### GTZAN"
   ]
  },
  {
   "cell_type": "code",
   "execution_count": null,
   "metadata": {
    "scrolled": true
   },
   "outputs": [],
   "source": [
    "# Get Features\n",
    "X_train, X_test, Y_train, Y_test = getFeatures(\"GTZAN\", \"fouriertempogram\", 8)\n",
    "print(X_train.shape)\n",
    "plt.imshow(X_train[1])\n",
    "# Model\n",
    "m = TEMP_CNN(X_train.shape[1:] + (1,), 10)\n",
    "opt = keras.optimizers.Adam(lr = 0.001)\n",
    "m.compile(optimizer = opt, loss = \"categorical_crossentropy\", metrics = ['categorical_accuracy'])\n",
    "m.summary()"
   ]
  },
  {
   "cell_type": "code",
   "execution_count": null,
   "metadata": {},
   "outputs": [],
   "source": [
    "m.fit(X_train, Y_train, epochs = 50, batch_size = BATCH_SIZE)"
   ]
  },
  {
   "cell_type": "code",
   "execution_count": null,
   "metadata": {},
   "outputs": [],
   "source": [
    "preds = m.evaluate(X_train, Y_train)\n",
    "print(\"Loss:\", preds[0])\n",
    "print(\"Train Accuracy:\", preds[1])"
   ]
  },
  {
   "cell_type": "code",
   "execution_count": null,
   "metadata": {},
   "outputs": [],
   "source": [
    "preds = m.evaluate(X_test, Y_test)\n",
    "#print(X_test.shape)\n",
    "print(\"Loss:\", preds[0])\n",
    "print(\"Train Accuracy:\", preds[1])"
   ]
  },
  {
   "cell_type": "code",
   "execution_count": null,
   "metadata": {},
   "outputs": [],
   "source": [
    "m.save('models/gtzan-cnn-fouriertempogram.h5')"
   ]
  },
  {
   "cell_type": "markdown",
   "metadata": {},
   "source": [
    "#### Extended Ballroom"
   ]
  },
  {
   "cell_type": "code",
   "execution_count": null,
   "metadata": {},
   "outputs": [],
   "source": [
    "# Get Features\n",
    "X_train, X_test, Y_train, Y_test = getFeatures(\"Extended Ballroom\", \"fouriertempogram\", 8)\n",
    "print(X_train.shape)\n",
    "plt.imshow(X_train[1])\n",
    "# Model\n",
    "m = TEMP_CNN(X_train.shape[1:] + (1,), 9)\n",
    "opt = keras.optimizers.Adam(lr = 0.001)\n",
    "m.compile(optimizer = opt, loss = \"categorical_crossentropy\", metrics = ['categorical_accuracy'])\n",
    "m.summary()"
   ]
  },
  {
   "cell_type": "code",
   "execution_count": null,
   "metadata": {},
   "outputs": [],
   "source": [
    "m.fit(X_train, Y_train, epochs = 3, batch_size = BATCH_SIZE)"
   ]
  },
  {
   "cell_type": "code",
   "execution_count": null,
   "metadata": {},
   "outputs": [],
   "source": [
    "preds = m.evaluate(X_train, Y_train)\n",
    "print(\"Loss:\", preds[0])\n",
    "print(\"Train Accuracy:\", preds[1])"
   ]
  },
  {
   "cell_type": "code",
   "execution_count": null,
   "metadata": {},
   "outputs": [],
   "source": [
    "preds = m.evaluate(X_test, Y_test)\n",
    "#print(X_test.shape)\n",
    "print(\"Loss:\", preds[0])\n",
    "print(\"Train Accuracy:\", preds[1])"
   ]
  },
  {
   "cell_type": "code",
   "execution_count": null,
   "metadata": {},
   "outputs": [],
   "source": [
    "m.save('models/extended_ballroom-cnn-fouriertempogram.h5')"
   ]
  },
  {
   "attachments": {},
   "cell_type": "markdown",
   "metadata": {},
   "source": [
    "## Base RNN\n",
    "\n",
    "RNN or Bi-RNN\n",
    "\n",
    "Explain general structure"
   ]
  },
  {
   "cell_type": "markdown",
   "metadata": {},
   "source": [
    "### STFT (1025, 640)"
   ]
  },
  {
   "cell_type": "code",
   "execution_count": null,
   "metadata": {},
   "outputs": [],
   "source": [
    "def STFT_RNN(input_shape, num_genres):\n",
    "    model = Sequential()\n",
    "    \n",
    "    # 1st layer\n",
    "    #model.add(Bidirectional(LSTM(input_shape[1], return_sequences = True), input_shape = input_shape))\n",
    "    model.add(LSTM(128, return_sequences = True, input_shape = input_shape))\n",
    "    \n",
    "    # 2nd layer\n",
    "    #model.add(Bidirectional(LSTM(input_shape[1] // 2)))\n",
    "    model.add(LSTM(32, dropout = 0.05, recurrent_dropout = 0.05))\n",
    "    \n",
    "    model.add(Dense(num_genres, activation = 'softmax'))\n",
    "    return model"
   ]
  },
  {
   "cell_type": "markdown",
   "metadata": {},
   "source": [
    "#### GTZAN"
   ]
  },
  {
   "cell_type": "code",
   "execution_count": null,
   "metadata": {},
   "outputs": [],
   "source": [
    "# Get Features\n",
    "X_train, X_test, Y_train, Y_test = getFeatures(\"GTZAN\", \"stft\", 4)\n",
    "print(X_train.shape)\n",
    "plt.imshow(X_train[1])\n",
    "# Model\n",
    "m = TEMP_RNN(X_train.shape[1:], GTZAN['nGenres'])\n",
    "opt = keras.optimizers.Adam(lr = 0.001)\n",
    "m.compile(optimizer = opt, loss = \"categorical_crossentropy\", metrics = ['categorical_accuracy'])\n",
    "m.summary()"
   ]
  },
  {
   "cell_type": "code",
   "execution_count": null,
   "metadata": {},
   "outputs": [],
   "source": [
    "m.fit(X_train, Y_train, epochs = 50, batch_size = BATCH_SIZE, shuffle = True)"
   ]
  },
  {
   "cell_type": "code",
   "execution_count": null,
   "metadata": {},
   "outputs": [],
   "source": [
    "preds = m.evaluate(X_train, Y_train)\n",
    "print(\"Loss:\", preds[0])\n",
    "print(\"Train Accuracy:\", preds[1])"
   ]
  },
  {
   "cell_type": "code",
   "execution_count": null,
   "metadata": {},
   "outputs": [],
   "source": [
    "preds = m.evaluate(X_test, Y_test)\n",
    "#print(X_test.shape)\n",
    "print(\"Loss:\", preds[0])\n",
    "print(\"Train Accuracy:\", preds[1])"
   ]
  },
  {
   "cell_type": "code",
   "execution_count": null,
   "metadata": {},
   "outputs": [],
   "source": [
    "m.save('models/gtzan-rnn-fouriertempogram.h5')"
   ]
  },
  {
   "cell_type": "markdown",
   "metadata": {},
   "source": [
    "#### Extended Ballroom"
   ]
  },
  {
   "cell_type": "code",
   "execution_count": null,
   "metadata": {},
   "outputs": [],
   "source": [
    "# Get Features\n",
    "X_train, X_test, Y_train, Y_test = getFeatures(\"Extended Ballroom\", \"stft\", 5)\n",
    "print(X_train.shape)\n",
    "plt.imshow(X_train[1])\n",
    "# Model\n",
    "m = TEMP_RNN(X_train.shape[1:], EXTENDED_BALLROOM['nGenres'])\n",
    "opt = keras.optimizers.Adam(lr = 0.001)\n",
    "m.compile(optimizer = opt, loss = \"categorical_crossentropy\", metrics = ['categorical_accuracy'])\n",
    "m.summary()"
   ]
  },
  {
   "cell_type": "code",
   "execution_count": null,
   "metadata": {},
   "outputs": [],
   "source": [
    "m.fit(X_train, Y_train, epochs = 50, batch_size = BATCH_SIZE, shuffle = True)"
   ]
  },
  {
   "cell_type": "code",
   "execution_count": null,
   "metadata": {},
   "outputs": [],
   "source": [
    "preds = m.evaluate(X_train, Y_train)\n",
    "print(\"Loss:\", preds[0])\n",
    "print(\"Train Accuracy:\", preds[1])"
   ]
  },
  {
   "cell_type": "code",
   "execution_count": null,
   "metadata": {},
   "outputs": [],
   "source": [
    "preds = m.evaluate(X_test, Y_test)\n",
    "#print(X_test.shape)\n",
    "print(\"Loss:\", preds[0])\n",
    "print(\"Train Accuracy:\", preds[1])"
   ]
  },
  {
   "cell_type": "code",
   "execution_count": null,
   "metadata": {},
   "outputs": [],
   "source": [
    "m.save('models/extended_ballroom-rnn-fouriertempogram.h5')"
   ]
  },
  {
   "cell_type": "markdown",
   "metadata": {},
   "source": [
    "### Fourier Tempogram (193, 640)"
   ]
  },
  {
   "cell_type": "code",
   "execution_count": null,
   "metadata": {},
   "outputs": [],
   "source": [
    "def TEMP_RNN(input_shape, num_genres):\n",
    "    model = Sequential()\n",
    "    \n",
    "    # 1st layer\n",
    "    #model.add(Bidirectional(LSTM(input_shape[1], return_sequences = True), input_shape = input_shape))\n",
    "    model.add(LSTM(input_shape[1], return_sequences = True, input_shape = input_shape))\n",
    "    \n",
    "    # 2nd layer\n",
    "    #model.add(Bidirectional(LSTM(input_shape[1] // 2)))\n",
    "    model.add(LSTM(input_shape[1] // 2))\n",
    "    \n",
    "    model.add(Dense(num_genres))\n",
    "    model.add(Activation('softmax'))\n",
    "    return model"
   ]
  },
  {
   "cell_type": "markdown",
   "metadata": {},
   "source": [
    "#### GTZAN"
   ]
  },
  {
   "cell_type": "code",
   "execution_count": null,
   "metadata": {},
   "outputs": [],
   "source": [
    "# Get Features\n",
    "X_train, X_test, Y_train, Y_test = getFeatures(\"GTZAN\", \"fouriertempogram\", 8)\n",
    "print(X_train.shape)\n",
    "plt.imshow(X_train[1])\n",
    "# Model\n",
    "m = TEMP_RNN(X_train.shape[1:], 10)\n",
    "opt = keras.optimizers.Adam(lr = 0.001)\n",
    "m.compile(optimizer = opt, loss = \"categorical_crossentropy\", metrics = ['categorical_accuracy'])\n",
    "m.summary()"
   ]
  },
  {
   "cell_type": "code",
   "execution_count": null,
   "metadata": {},
   "outputs": [],
   "source": [
    "m.fit(X_train, Y_train, epochs = 50, batch_size = BATCH_SIZE, shuffle = True)"
   ]
  },
  {
   "cell_type": "code",
   "execution_count": null,
   "metadata": {},
   "outputs": [],
   "source": [
    "preds = m.evaluate(X_train, Y_train)\n",
    "print(\"Loss:\", preds[0])\n",
    "print(\"Train Accuracy:\", preds[1])"
   ]
  },
  {
   "cell_type": "code",
   "execution_count": null,
   "metadata": {},
   "outputs": [],
   "source": [
    "preds = m.evaluate(X_test, Y_test)\n",
    "#print(X_test.shape)\n",
    "print(\"Loss:\", preds[0])\n",
    "print(\"Train Accuracy:\", preds[1])"
   ]
  },
  {
   "cell_type": "code",
   "execution_count": null,
   "metadata": {},
   "outputs": [],
   "source": [
    "m.save('models/gtzan-rnn-fouriertempogram.h5')"
   ]
  },
  {
   "cell_type": "markdown",
   "metadata": {},
   "source": [
    "#### Extended Ballroom"
   ]
  },
  {
   "cell_type": "code",
   "execution_count": null,
   "metadata": {},
   "outputs": [],
   "source": [
    "# Get Features\n",
    "X_train, X_test, Y_train, Y_test = getFeatures(\"Extended Ballroom\", \"fouriertempogram\", 8)\n",
    "print(X_train.shape)\n",
    "#plt.imshow(X_train[1])\n",
    "# Model\n",
    "m = TEMP_RNN(X_train.shape[1:], EXTENDED_BALLROOM['nGenres'])\n",
    "opt = keras.optimizers.Adam(lr = 0.001)\n",
    "m.compile(optimizer = opt, loss = \"categorical_crossentropy\", metrics = ['categorical_accuracy'])\n",
    "m.summary()"
   ]
  },
  {
   "cell_type": "code",
   "execution_count": null,
   "metadata": {},
   "outputs": [],
   "source": [
    "m.fit(X_train, Y_train, epochs = 50, batch_size = BATCH_SIZE, shuffle = True)"
   ]
  },
  {
   "cell_type": "code",
   "execution_count": null,
   "metadata": {},
   "outputs": [],
   "source": [
    "preds = m.evaluate(X_train, Y_train)\n",
    "print(\"Loss:\", preds[0])\n",
    "print(\"Train Accuracy:\", preds[1])"
   ]
  },
  {
   "cell_type": "code",
   "execution_count": null,
   "metadata": {},
   "outputs": [],
   "source": [
    "preds = m.evaluate(X_test, Y_test)\n",
    "#print(X_test.shape)\n",
    "print(\"Loss:\", preds[0])\n",
    "print(\"Train Accuracy:\", preds[1])"
   ]
  },
  {
   "cell_type": "code",
   "execution_count": null,
   "metadata": {},
   "outputs": [],
   "source": [
    "m.save('models/extended_ballroom-rnn-fouriertempogram.h5')"
   ]
  },
  {
   "cell_type": "markdown",
   "metadata": {},
   "source": [
    "# Base Results"
   ]
  },
  {
   "cell_type": "code",
   "execution_count": 34,
   "metadata": {},
   "outputs": [
    {
     "name": "stdout",
     "output_type": "stream",
     "text": [
      "250/250 [==============================] - 27s 107ms/step - loss: 0.6095 - categorical_accuracy: 0.8508\n",
      "100/100 [==============================] - 2s 20ms/step - loss: 0.6748 - categorical_accuracy: 0.8557\n",
      "200/200 [==============================] - 6s 29ms/step - loss: 0.7566 - categorical_accuracy: 0.8132\n",
      "200/200 [==============================] - 2s 11ms/step - loss: 0.6281 - categorical_accuracy: 0.8291\n",
      "WARNING:tensorflow:Error in loading the saved optimizer state. As a result, your model is starting with a freshly initialized optimizer.\n",
      "63/63 [==============================] - 7s 104ms/step - loss: 0.7398 - categorical_accuracy: 0.8465\n",
      "WARNING:tensorflow:Error in loading the saved optimizer state. As a result, your model is starting with a freshly initialized optimizer.\n",
      "25/25 [==============================] - 1s 19ms/step - loss: 0.6193 - categorical_accuracy: 0.8275\n",
      "WARNING:tensorflow:Error in loading the saved optimizer state. As a result, your model is starting with a freshly initialized optimizer.\n",
      "50/50 [==============================] - 2s 29ms/step - loss: 1.3315 - categorical_accuracy: 0.6350\n",
      "WARNING:tensorflow:Error in loading the saved optimizer state. As a result, your model is starting with a freshly initialized optimizer.\n",
      "50/50 [==============================] - 1s 11ms/step - loss: 0.9363 - categorical_accuracy: 0.7281\n"
     ]
    }
   ],
   "source": [
    "models = pd.DataFrame(columns = ['Model', 'Dataset', 'Feature', 'Loss', 'Accuracy'])\n",
    "for model in os.listdir(os.path.join(os.getcwd(), 'models')):\n",
    "    info = model[:-3].split('-')\n",
    "    data = info[0].split('_')\n",
    "    data = ' '.join([s.capitalize() for s in data])\n",
    "    if data.lower() == 'gtzan':\n",
    "        data = data.upper()\n",
    "    mo = info[1]\n",
    "    split = int(info[2])\n",
    "    feat = info[3]\n",
    "    #print(data, mo, split, feat)\n",
    "    m = keras.models.load_model(os.path.join(os.getcwd(), 'models', model))\n",
    "    X_train, X_test, Y_train, Y_test = getFeatures(data, feat, split)\n",
    "    a, l = m.evaluate(X_test, Y_test)\n",
    "    models = models.append(pd.DataFrame({'Model': [mo.upper() + '-' + str(split)], 'Dataset': [data],\n",
    "                                         'Feature': [feat], 'Loss': [l], 'Accuracy': [a]}))\n",
    "models = models.set_index('Model')\n",
    "models = models.sort_values(by = ['Accuracy'])"
   ]
  },
  {
   "cell_type": "code",
   "execution_count": 35,
   "metadata": {},
   "outputs": [
    {
     "data": {
      "text/html": [
       "<div>\n",
       "<style scoped>\n",
       "    .dataframe tbody tr th:only-of-type {\n",
       "        vertical-align: middle;\n",
       "    }\n",
       "\n",
       "    .dataframe tbody tr th {\n",
       "        vertical-align: top;\n",
       "    }\n",
       "\n",
       "    .dataframe thead th {\n",
       "        text-align: right;\n",
       "    }\n",
       "</style>\n",
       "<table border=\"1\" class=\"dataframe\">\n",
       "  <thead>\n",
       "    <tr style=\"text-align: right;\">\n",
       "      <th></th>\n",
       "      <th>Dataset</th>\n",
       "      <th>Feature</th>\n",
       "      <th>Loss</th>\n",
       "      <th>Accuracy</th>\n",
       "    </tr>\n",
       "    <tr>\n",
       "      <th>Model</th>\n",
       "      <th></th>\n",
       "      <th></th>\n",
       "      <th></th>\n",
       "      <th></th>\n",
       "    </tr>\n",
       "  </thead>\n",
       "  <tbody>\n",
       "    <tr>\n",
       "      <th>CNN-10</th>\n",
       "      <td>Extended Ballroom</td>\n",
       "      <td>stft</td>\n",
       "      <td>0.850827</td>\n",
       "      <td>0.609495</td>\n",
       "    </tr>\n",
       "    <tr>\n",
       "      <th>CNN-4</th>\n",
       "      <td>GTZAN</td>\n",
       "      <td>melspectrogram</td>\n",
       "      <td>0.827500</td>\n",
       "      <td>0.619323</td>\n",
       "    </tr>\n",
       "    <tr>\n",
       "      <th>CNN-8</th>\n",
       "      <td>Extended Ballroom</td>\n",
       "      <td>mfcc</td>\n",
       "      <td>0.829054</td>\n",
       "      <td>0.628138</td>\n",
       "    </tr>\n",
       "    <tr>\n",
       "      <th>CNN-4</th>\n",
       "      <td>Extended Ballroom</td>\n",
       "      <td>melspectrogram</td>\n",
       "      <td>0.855667</td>\n",
       "      <td>0.674813</td>\n",
       "    </tr>\n",
       "    <tr>\n",
       "      <th>CNN-10</th>\n",
       "      <td>GTZAN</td>\n",
       "      <td>stft</td>\n",
       "      <td>0.846500</td>\n",
       "      <td>0.739848</td>\n",
       "    </tr>\n",
       "    <tr>\n",
       "      <th>CNN-8</th>\n",
       "      <td>Extended Ballroom</td>\n",
       "      <td>fouriertempogram</td>\n",
       "      <td>0.813244</td>\n",
       "      <td>0.756606</td>\n",
       "    </tr>\n",
       "    <tr>\n",
       "      <th>CNN-8</th>\n",
       "      <td>GTZAN</td>\n",
       "      <td>mfcc</td>\n",
       "      <td>0.728125</td>\n",
       "      <td>0.936257</td>\n",
       "    </tr>\n",
       "    <tr>\n",
       "      <th>CNN-8</th>\n",
       "      <td>GTZAN</td>\n",
       "      <td>fouriertempogram</td>\n",
       "      <td>0.635000</td>\n",
       "      <td>1.331540</td>\n",
       "    </tr>\n",
       "  </tbody>\n",
       "</table>\n",
       "</div>"
      ],
      "text/plain": [
       "                  Dataset           Feature      Loss  Accuracy\n",
       "Model                                                          \n",
       "CNN-10  Extended Ballroom              stft  0.850827  0.609495\n",
       "CNN-4               GTZAN    melspectrogram  0.827500  0.619323\n",
       "CNN-8   Extended Ballroom              mfcc  0.829054  0.628138\n",
       "CNN-4   Extended Ballroom    melspectrogram  0.855667  0.674813\n",
       "CNN-10              GTZAN              stft  0.846500  0.739848\n",
       "CNN-8   Extended Ballroom  fouriertempogram  0.813244  0.756606\n",
       "CNN-8               GTZAN              mfcc  0.728125  0.936257\n",
       "CNN-8               GTZAN  fouriertempogram  0.635000  1.331540"
      ]
     },
     "execution_count": 35,
     "metadata": {},
     "output_type": "execute_result"
    }
   ],
   "source": [
    "models"
   ]
  },
  {
   "cell_type": "code",
   "execution_count": null,
   "metadata": {},
   "outputs": [],
   "source": []
  },
  {
   "cell_type": "code",
   "execution_count": null,
   "metadata": {},
   "outputs": [],
   "source": []
  },
  {
   "cell_type": "code",
   "execution_count": null,
   "metadata": {},
   "outputs": [],
   "source": []
  },
  {
   "attachments": {
    "image.png": {
     "image/png": "[encoded data removed]"
    }
   },
   "cell_type": "markdown",
   "metadata": {},
   "source": [
    "# Parallel\n",
    "\n",
    "CNN + RNN\n",
    "\n",
    "CNN + CNN\n",
    "\n",
    "One or multiple combinations, possibly with different inputs (features)\n",
    "\n",
    "jeong2016learning\n",
    "![image.png](attachment:image.png)"
   ]
  },
  {
   "cell_type": "code",
   "execution_count": null,
   "metadata": {},
   "outputs": [],
   "source": []
  },
  {
   "cell_type": "code",
   "execution_count": null,
   "metadata": {},
   "outputs": [],
   "source": []
  },
  {
   "cell_type": "code",
   "execution_count": null,
   "metadata": {},
   "outputs": [],
   "source": []
  },
  {
   "cell_type": "code",
   "execution_count": null,
   "metadata": {},
   "outputs": [],
   "source": []
  },
  {
   "cell_type": "markdown",
   "metadata": {},
   "source": [
    "# Test\n",
    "\n",
    "Use recent songs and test"
   ]
  },
  {
   "cell_type": "code",
   "execution_count": null,
   "metadata": {},
   "outputs": [],
   "source": []
  },
  {
   "cell_type": "code",
   "execution_count": null,
   "metadata": {},
   "outputs": [],
   "source": []
  },
  {
   "cell_type": "code",
   "execution_count": null,
   "metadata": {},
   "outputs": [],
   "source": []
  }
 ],
 "metadata": {
  "kernelspec": {
   "display_name": "Python 3",
   "language": "python",
   "name": "python3"
  },
  "language_info": {
   "codemirror_mode": {
    "name": "ipython",
    "version": 3
   },
   "file_extension": ".py",
   "mimetype": "text/x-python",
   "name": "python",
   "nbconvert_exporter": "python",
   "pygments_lexer": "ipython3",
   "version": "3.8.5"
  }
 },
 "nbformat": 4,
 "nbformat_minor": 4
}
